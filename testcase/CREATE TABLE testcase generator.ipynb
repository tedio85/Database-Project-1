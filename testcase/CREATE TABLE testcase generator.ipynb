{
 "cells": [
  {
   "cell_type": "markdown",
   "metadata": {},
   "source": [
    "### Result\n",
    "\n",
    "This file generates the testcase for CREATE TABLE\n",
    "\n",
    "The correct answer should be: **ONLY** tables in `correct_table_names` should be created"
   ]
  },
  {
   "cell_type": "code",
   "execution_count": 98,
   "metadata": {
    "collapsed": true
   },
   "outputs": [],
   "source": [
    "incorrect_table_names = ['^mao', '@pq', '>><<', 'y**Y', 'p.q', '5566xyz', 'abc;', 'KL-div', '(ios)', ';lkj']\n",
    "duplicated_table_names = ['A','B','C','D','E','F']\n",
    "correct_table_names = ['Dog', '_math', '__KING__', '__kfc', '_09', 'a_b_c', '_2b', 'TORNADO', 'zErO_div', 'oOvOo']"
   ]
  },
  {
   "cell_type": "code",
   "execution_count": 99,
   "metadata": {
    "collapsed": true
   },
   "outputs": [],
   "source": [
    "attr_names = ['a', 'b', 'c', 'd', 'e', 'f', 'g', 'h', 'i','j', 'k', 'l']\n",
    "type_names = ['int', 'varchar']\n",
    "varchar_length = [0,10,20,30,40,50,60]\n",
    "pk_ = 'PRIMARY KEY'"
   ]
  },
  {
   "cell_type": "code",
   "execution_count": 100,
   "metadata": {
    "collapsed": true
   },
   "outputs": [],
   "source": [
    "create_table_stmt = 'CREATE TABLE tname_ (params);'\n",
    "insert_stmt = 'INSERT INTO tname_\\n VALUES (params);'"
   ]
  },
  {
   "cell_type": "code",
   "execution_count": 101,
   "metadata": {
    "collapsed": false
   },
   "outputs": [],
   "source": [
    "from random import randint\n",
    "import random\n",
    "incorrect_table_names_stmts = []\n",
    "\n",
    "for name in incorrect_table_names:\n",
    "    params = \"\"\n",
    "    attr_names_clone = attr_names[:]\n",
    "    for i in range(10):\n",
    "        attr_selected = random.choice(attr_names_clone)\n",
    "        params += attr_selected + ' '\n",
    "        attr_names_clone.remove(attr_selected)\n",
    "        idx = randint(0,1)\n",
    "        params += type_names[idx]\n",
    "        if(idx == 1):\n",
    "            params += '(' + str(varchar_length[randint(0,6)]) + ')'\n",
    "        if(i!=9):\n",
    "            params += ','\n",
    "            \n",
    "    s = create_table_stmt.replace('tname_', name).replace('params',params)\n",
    "    upper_or_lower = randint(0, 1)\n",
    "    if(upper_or_lower == 0):\n",
    "        incorrect_table_names_stmts.append(s.upper())\n",
    "    else:\n",
    "        incorrect_table_names_stmts.append(s.lower())"
   ]
  },
  {
   "cell_type": "code",
   "execution_count": 102,
   "metadata": {
    "collapsed": false
   },
   "outputs": [
    {
     "name": "stdout",
     "output_type": "stream",
     "text": [
      "['CREATE TABLE ^MAO (E VARCHAR(0),D VARCHAR(20),G INT,L INT,I INT,H VARCHAR(60),B VARCHAR(20),A INT,F VARCHAR(40),J INT);', 'CREATE TABLE @PQ (K VARCHAR(40),D INT,E INT,H VARCHAR(20),F VARCHAR(0),L INT,C VARCHAR(20),B VARCHAR(40),G VARCHAR(0),J VARCHAR(60));', 'create table >><< (k varchar(40),l varchar(20),f int,d int,h int,e int,j varchar(50),b varchar(0),g int,a varchar(10));', 'create table y**y (k int,g int,f varchar(10),e int,d varchar(40),j int,a varchar(10),h varchar(40),c int,i varchar(0));', 'CREATE TABLE P.Q (G VARCHAR(40),L VARCHAR(40),D VARCHAR(20),I VARCHAR(20),A VARCHAR(0),K INT,J VARCHAR(30),F INT,B VARCHAR(10),H INT);', 'CREATE TABLE 5566XYZ (J INT,B VARCHAR(30),L VARCHAR(40),E INT,A INT,D INT,C INT,K INT,G VARCHAR(10),I VARCHAR(50));', 'create table abc; (h int,g varchar(40),d varchar(10),j varchar(10),c varchar(20),b int,e varchar(50),l int,i int,a varchar(10));', 'CREATE TABLE KL-DIV (B VARCHAR(60),L VARCHAR(60),E INT,I INT,H VARCHAR(0),G INT,J INT,K INT,D INT,F VARCHAR(50));', 'CREATE TABLE (IOS) (G VARCHAR(50),D VARCHAR(40),K INT,E INT,B VARCHAR(30),I INT,H INT,A INT,F VARCHAR(50),C INT);', 'CREATE TABLE ;LKJ (F INT,K INT,G INT,D VARCHAR(50),L VARCHAR(50),J VARCHAR(10),H VARCHAR(30),C VARCHAR(30),I VARCHAR(50),E VARCHAR(10));']\n"
     ]
    }
   ],
   "source": [
    "print(incorrect_table_names_stmts)"
   ]
  },
  {
   "cell_type": "code",
   "execution_count": 103,
   "metadata": {
    "collapsed": false
   },
   "outputs": [],
   "source": [
    "from random import randint\n",
    "import random\n",
    "correct_table_names_stmts = []\n",
    "\n",
    "for name in correct_table_names:\n",
    "    params = \"\"\n",
    "    attr_names_clone = attr_names[:]\n",
    "    for i in range(10):\n",
    "        attr_selected = random.choice(attr_names_clone)\n",
    "        params += attr_selected + ' '\n",
    "        attr_names_clone.remove(attr_selected)\n",
    "        idx = randint(0,1)\n",
    "        params += type_names[idx]\n",
    "        if(idx == 1):\n",
    "            params += '(' + str(varchar_length[randint(1,4)]) + ')'\n",
    "        if(i!=9):\n",
    "            params += ','\n",
    "            \n",
    "    s = create_table_stmt.replace('tname_', name).replace('params',params)\n",
    "\n",
    "    correct_table_names_stmts.append(s.upper())\n",
    "    correct_table_names_stmts.append(s.lower())"
   ]
  },
  {
   "cell_type": "code",
   "execution_count": 104,
   "metadata": {
    "collapsed": false
   },
   "outputs": [
    {
     "name": "stdout",
     "output_type": "stream",
     "text": [
      "['CREATE TABLE DOG (L VARCHAR(40),I VARCHAR(10),K INT,F INT,E VARCHAR(40),J VARCHAR(30),C VARCHAR(40),G INT,B INT,H INT);', 'create table dog (l varchar(40),i varchar(10),k int,f int,e varchar(40),j varchar(30),c varchar(40),g int,b int,h int);', 'CREATE TABLE _MATH (H INT,C INT,E VARCHAR(20),K VARCHAR(40),B VARCHAR(10),D INT,G VARCHAR(40),L INT,A INT,J INT);', 'create table _math (h int,c int,e varchar(20),k varchar(40),b varchar(10),d int,g varchar(40),l int,a int,j int);', 'CREATE TABLE __KING__ (L VARCHAR(30),I VARCHAR(10),G INT,D VARCHAR(30),A INT,J VARCHAR(30),H INT,E VARCHAR(10),C INT,K VARCHAR(10));', 'create table __king__ (l varchar(30),i varchar(10),g int,d varchar(30),a int,j varchar(30),h int,e varchar(10),c int,k varchar(10));', 'CREATE TABLE __KFC (F VARCHAR(10),L INT,G INT,K INT,E INT,D INT,J VARCHAR(40),H INT,I INT,A VARCHAR(20));', 'create table __kfc (f varchar(10),l int,g int,k int,e int,d int,j varchar(40),h int,i int,a varchar(20));', 'CREATE TABLE _09 (C VARCHAR(20),H VARCHAR(20),F INT,J INT,G VARCHAR(10),K INT,I INT,A INT,B VARCHAR(30),D VARCHAR(10));', 'create table _09 (c varchar(20),h varchar(20),f int,j int,g varchar(10),k int,i int,a int,b varchar(30),d varchar(10));', 'CREATE TABLE A_B_C (E INT,D INT,G VARCHAR(30),I INT,H INT,C VARCHAR(20),B VARCHAR(20),L VARCHAR(20),J INT,K VARCHAR(30));', 'create table a_b_c (e int,d int,g varchar(30),i int,h int,c varchar(20),b varchar(20),l varchar(20),j int,k varchar(30));', 'CREATE TABLE _2B (K VARCHAR(40),J VARCHAR(40),H INT,A INT,F INT,D INT,L VARCHAR(20),E INT,G INT,B VARCHAR(30));', 'create table _2b (k varchar(40),j varchar(40),h int,a int,f int,d int,l varchar(20),e int,g int,b varchar(30));', 'CREATE TABLE TORNADO (C VARCHAR(40),I VARCHAR(40),H INT,A INT,E VARCHAR(10),D INT,L INT,G INT,K INT,B VARCHAR(10));', 'create table tornado (c varchar(40),i varchar(40),h int,a int,e varchar(10),d int,l int,g int,k int,b varchar(10));', 'CREATE TABLE ZERO_DIV (J INT,F INT,L INT,I VARCHAR(10),D INT,H INT,K INT,E INT,G VARCHAR(20),A VARCHAR(30));', 'create table zero_div (j int,f int,l int,i varchar(10),d int,h int,k int,e int,g varchar(20),a varchar(30));', 'CREATE TABLE OOVOO (E VARCHAR(30),K VARCHAR(10),J INT,G INT,C INT,H INT,I INT,L INT,D VARCHAR(20),A INT);', 'create table oovoo (e varchar(30),k varchar(10),j int,g int,c int,h int,i int,l int,d varchar(20),a int);']\n"
     ]
    }
   ],
   "source": [
    "print(correct_table_names_stmts)"
   ]
  },
  {
   "cell_type": "code",
   "execution_count": 105,
   "metadata": {
    "collapsed": false
   },
   "outputs": [
    {
     "name": "stdout",
     "output_type": "stream",
     "text": [
      "['CREATE TABLE A (J INT,J VARCHAR(40),E VARCHAR(10),E INT,J INT,J INT,E VARCHAR(20),E VARCHAR(10),J VARCHAR(10),J VARCHAR(20));', 'create table b (e varchar(20),e varchar(30),j int,j int,e int,e int,j int,j varchar(30),j varchar(20),j int);', 'CREATE TABLE C (E INT,E VARCHAR(10),J INT,J INT,E INT,E INT,E VARCHAR(30),E INT,J INT,J INT);', 'create table d (e int,e int,e int,e int,e varchar(30),e int,e int,e varchar(10),e varchar(40),e varchar(40));', 'create table e (e varchar(40),e varchar(30),j int,j int,e varchar(30),e int,e int,e varchar(20),j varchar(40),j varchar(20));', 'CREATE TABLE F (E VARCHAR(30),E INT,E VARCHAR(20),E VARCHAR(20),J INT,J INT,J VARCHAR(10),J INT,J INT,J VARCHAR(10));']\n"
     ]
    }
   ],
   "source": [
    "print(duplicated_attr_names_stmts)"
   ]
  },
  {
   "cell_type": "code",
   "execution_count": 106,
   "metadata": {
    "collapsed": true
   },
   "outputs": [],
   "source": [
    "from random import randint\n",
    "import random\n",
    "incorrect_varchar_length_stmts = []\n",
    "\n",
    "for name in duplicated_table_names:\n",
    "    params = \"\"\n",
    "    attr_names_clone = attr_names[:]\n",
    "    for i in range(10):\n",
    "        attr_selected = random.choice(attr_names_clone)\n",
    "        params += attr_selected + ' '\n",
    "        attr_names_clone.remove(attr_selected)\n",
    "        idx = randint(0,1)\n",
    "        params += type_names[idx]\n",
    "        if(idx == 1):\n",
    "            params += '(' + str(varchar_length[0]) + ')'\n",
    "        if(i!=9):\n",
    "            params += ','\n",
    "            \n",
    "    s = create_table_stmt.replace('tname_', name).replace('params',params)\n",
    "    upper_or_lower = randint(0, 1)\n",
    "    if(upper_or_lower == 0):\n",
    "        incorrect_varchar_length_stmts.append(s.upper())\n",
    "    else:\n",
    "        incorrect_varchar_length_stmts.append(s.lower())\n",
    "        \n",
    "for name in duplicated_table_names:\n",
    "    params = \"\"\n",
    "    attr_names_clone = attr_names[:]\n",
    "    for i in range(10):\n",
    "        attr_selected = random.choice(attr_names_clone)\n",
    "        params += attr_selected + ' '\n",
    "        attr_names_clone.remove(attr_selected)\n",
    "        idx = randint(0,1)\n",
    "        params += type_names[idx]\n",
    "        if(idx == 1):\n",
    "            params += '(' + str(varchar_length[5]) + ')'\n",
    "        if(i!=9):\n",
    "            params += ','\n",
    "            \n",
    "    s = create_table_stmt.replace('tname_', name).replace('params',params)\n",
    "    upper_or_lower = randint(0, 1)\n",
    "    if(upper_or_lower == 0):\n",
    "        incorrect_varchar_length_stmts.append(s.upper())\n",
    "    else:\n",
    "        incorrect_varchar_length_stmts.append(s.lower())"
   ]
  },
  {
   "cell_type": "code",
   "execution_count": 107,
   "metadata": {
    "collapsed": false
   },
   "outputs": [
    {
     "name": "stdout",
     "output_type": "stream",
     "text": [
      "['create table a (d varchar(0),f int,g varchar(0),j varchar(0),c int,b varchar(0),a varchar(0),l int,e int,h varchar(0));', 'create table b (b varchar(0),h varchar(0),a varchar(0),d int,l varchar(0),g varchar(0),k varchar(0),i int,j int,f int);', 'CREATE TABLE C (L INT,C INT,G INT,A VARCHAR(0),J INT,I INT,K INT,D VARCHAR(0),F VARCHAR(0),H INT);', 'create table d (d int,b int,c int,f int,g int,k int,h varchar(0),i varchar(0),j int,l int);', 'create table e (c varchar(0),k varchar(0),g int,i int,e varchar(0),d varchar(0),f int,l int,b int,a varchar(0));', 'create table f (h varchar(0),e int,b int,d int,a int,i varchar(0),f int,j int,k int,g int);', 'create table a (j varchar(50),d varchar(50),l int,c int,i int,e int,h varchar(50),a int,b varchar(50),f int);', 'create table b (k varchar(50),f varchar(50),j varchar(50),l varchar(50),d varchar(50),a int,e varchar(50),h varchar(50),b varchar(50),i varchar(50));', 'CREATE TABLE C (E VARCHAR(50),L INT,K VARCHAR(50),I INT,D VARCHAR(50),B INT,A VARCHAR(50),F VARCHAR(50),C VARCHAR(50),G VARCHAR(50));', 'CREATE TABLE D (K VARCHAR(50),I VARCHAR(50),D VARCHAR(50),A INT,F INT,H INT,L VARCHAR(50),C INT,J VARCHAR(50),B INT);', 'CREATE TABLE E (C INT,J VARCHAR(50),G VARCHAR(50),A INT,B VARCHAR(50),L VARCHAR(50),H INT,K INT,F VARCHAR(50),I VARCHAR(50));', 'CREATE TABLE F (C INT,A INT,L INT,E INT,J VARCHAR(50),I INT,G INT,K INT,F VARCHAR(50),B INT);']\n"
     ]
    }
   ],
   "source": [
    "print(incorrect_varchar_length_stmts)"
   ]
  },
  {
   "cell_type": "code",
   "execution_count": 108,
   "metadata": {
    "collapsed": true
   },
   "outputs": [],
   "source": [
    "with open('./testcase/create_table_test.sql','w') as f:\n",
    "    for stmt in incorrect_table_names_stmts:\n",
    "        f.write(stmt+\"\\n\")\n",
    "    for stmt in correct_table_names_stmts:\n",
    "        f.write(stmt+\"\\n\")\n",
    "    for stmt in duplicated_attr_names_stmts:\n",
    "        f.write(stmt+\"\\n\")\n",
    "    for stmt in incorrect_varchar_length_stmts:\n",
    "        f.write(stmt+\"\\n\")"
   ]
  },
  {
   "cell_type": "code",
   "execution_count": null,
   "metadata": {
    "collapsed": true
   },
   "outputs": [],
   "source": []
  }
 ],
 "metadata": {
  "kernelspec": {
   "display_name": "Python [conda root]",
   "language": "python",
   "name": "conda-root-py"
  },
  "language_info": {
   "codemirror_mode": {
    "name": "ipython",
    "version": 3
   },
   "file_extension": ".py",
   "mimetype": "text/x-python",
   "name": "python",
   "nbconvert_exporter": "python",
   "pygments_lexer": "ipython3",
   "version": "3.5.2"
  }
 },
 "nbformat": 4,
 "nbformat_minor": 2
}

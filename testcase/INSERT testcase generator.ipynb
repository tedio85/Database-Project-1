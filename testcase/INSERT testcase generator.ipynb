{
 "cells": [
  {
   "cell_type": "code",
   "execution_count": 1,
   "metadata": {
    "collapsed": true
   },
   "outputs": [],
   "source": [
    "stmts = []\n",
    "insert_stmt_std = 'INSERT INTO tname_\\n VALUES (params);'\n",
    "insert_stmt_attr = 'INSERT INTO tname(attrtibutes_) VALUES (params);'"
   ]
  },
  {
   "cell_type": "code",
   "execution_count": 2,
   "metadata": {
    "collapsed": true
   },
   "outputs": [],
   "source": [
    "table_name = 'Student'\n",
    "attrs = ['name', 'student_id', 'personal_id', 'gender', 'Dept.', 'grade', 'class', 'avg_score', 'car_no.','professor']\n",
    "types = ['varchar','int', 'int', 'varchar', 'varchar', 'int', 'varchar', 'int', 'int', 'varchar']\n",
    "varchar_len = [10, 0, 0, 1, 40, 0, 1, 0, 0, 20]"
   ]
  },
  {
   "cell_type": "code",
   "execution_count": 3,
   "metadata": {
    "collapsed": false
   },
   "outputs": [],
   "source": [
    "from random import randint\n",
    "import random\n",
    "create_table_stmt = 'CREATE TABLE tname_ (params);'\n",
    "params = \"\"\n",
    "\n",
    "for i in range(10):\n",
    "    params += attrs[i] + ' '\n",
    "    if(types[i] == 'varchar'):\n",
    "        params += types[i] + '(' + str(varchar_len[i]) + ')'\n",
    "    else:\n",
    "        params += types[i]\n",
    "    \n",
    "    if(attrs[i] == 'student_id'):\n",
    "        params += \" PRIMARY KEY\"\n",
    "    \n",
    "    if(i!=9):\n",
    "        params += ','\n",
    "\n",
    "stmts.append(create_table_stmt.replace('tname_', table_name).replace('params',params))"
   ]
  },
  {
   "cell_type": "code",
   "execution_count": 4,
   "metadata": {
    "collapsed": false
   },
   "outputs": [
    {
     "name": "stdout",
     "output_type": "stream",
     "text": [
      "['CREATE TABLE Student (name varchar(10),student_id int PRIMARY KEY,personal_id int,gender varchar(1),Dept. varchar(40),grade int,class varchar(1),avg_score int,car_no. int,professor varchar(20));']\n"
     ]
    }
   ],
   "source": [
    "print(stmts)"
   ]
  },
  {
   "cell_type": "code",
   "execution_count": null,
   "metadata": {
    "collapsed": true
   },
   "outputs": [],
   "source": [
    "params = []\n",
    "\n",
    "def gen_str(int X):\n",
    "    return ''.join(random.choice(string.lowercase) for x in range(X))\n",
    "\n",
    "for i in range(5000):\n",
    "    "
   ]
  }
 ],
 "metadata": {
  "kernelspec": {
   "display_name": "Python [conda root]",
   "language": "python",
   "name": "conda-root-py"
  },
  "language_info": {
   "codemirror_mode": {
    "name": "ipython",
    "version": 3
   },
   "file_extension": ".py",
   "mimetype": "text/x-python",
   "name": "python",
   "nbconvert_exporter": "python",
   "pygments_lexer": "ipython3",
   "version": "3.5.2"
  }
 },
 "nbformat": 4,
 "nbformat_minor": 2
}
